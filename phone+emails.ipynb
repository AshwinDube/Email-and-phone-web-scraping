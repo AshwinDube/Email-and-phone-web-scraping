{
 "cells": [
  {
   "cell_type": "code",
   "execution_count": 126,
   "id": "94922822",
   "metadata": {},
   "outputs": [],
   "source": [
    "from bs4 import BeautifulSoup\n",
    "import requests\n",
    "from bs4 import BeautifulSoup\n",
    "         # By importing BeautifulSoup Soup we can parse and scrap the HTML and XML document\n",
    "import requests\n",
    "         # By Importing requests we can request to API and we can get the raw HTML contents from website i.e to scraping\n",
    "import os\n",
    "         # This library helps to intrect directly from Operating System\n",
    "import nltk\n",
    "         # By this we can import Natural Language toolkit\n",
    "from nltk import corpus\n",
    "         # By this we can import coprora reader which helps to handle specific corpus format \n",
    "import re\n",
    "        # By this we can import Regular Expression which will help to find  some specific things from scrap\n",
    "\n",
    "from urllib.request import urlopen,urlparse, Request,HTTPError\n",
    "import warnings\n",
    "import pandas as pd"
   ]
  },
  {
   "cell_type": "code",
   "execution_count": 127,
   "id": "a3b53d60",
   "metadata": {},
   "outputs": [],
   "source": [
    "url='https://www.smartjoules.co.in/'"
   ]
  },
  {
   "cell_type": "code",
   "execution_count": 128,
   "id": "a974778f",
   "metadata": {},
   "outputs": [],
   "source": [
    "website=pd.DataFrame([url],columns=['Website'])"
   ]
  },
  {
   "cell_type": "code",
   "execution_count": 129,
   "id": "f8144bea",
   "metadata": {},
   "outputs": [],
   "source": [
    "requests.get(url).text\n",
    "\n",
    "\n",
    "f = urlopen(url)\n",
    "reg = \"((\\+\\d{1,3}(-| )?\\(?\\d\\)?(-| )?\\d{1,3})|(\\(?\\d{2,3}\\)?))(-| )?(\\d{3,4})(-| )?(\\d{4})(( x| ext)\\d{1,5}){0,1}\"\n",
    "s = f.read().decode('UTF-8') \n",
    "phone = re. findall(reg, s) \n",
    "\n",
    "ph=[]\n",
    "for phone in phone:    \n",
    "    g  = list(filter(None, phone))    \n",
    "    g=''.join(g)    \n",
    "    ph.append(g) \n",
    "\n",
    "final_list = [] \n",
    "def Remove(duplicate):     \n",
    "    for num in duplicate:     \n",
    "        if num not in final_list:     \n",
    "            final_list.append(num)     \n",
    "            return final_list \n",
    "            k = Remove(ph)\n",
    "            \n",
    "\n",
    "\n",
    "\n",
    "#print(ph)\n",
    "\n",
    "mail=re.findall(r\"[A-Za-z0-9._%+-]+@[A-Za-z0-9.-]+\\.[A-Za-z]{2,3}\",s)  #Email regex"
   ]
  },
  {
   "cell_type": "code",
   "execution_count": null,
   "id": "c6dde195",
   "metadata": {},
   "outputs": [],
   "source": []
  },
  {
   "cell_type": "code",
   "execution_count": 130,
   "id": "fc64e53c",
   "metadata": {},
   "outputs": [
    {
     "data": {
      "text/plain": [
       "pandas.core.frame.DataFrame"
      ]
     },
     "execution_count": 130,
     "metadata": {},
     "output_type": "execute_result"
    }
   ],
   "source": [
    "type(web)"
   ]
  },
  {
   "cell_type": "code",
   "execution_count": 131,
   "id": "07a74415",
   "metadata": {},
   "outputs": [
    {
     "data": {
      "text/plain": [
       "['1631639833816',\n",
       " '1010-2016-1073',\n",
       " '1212-2016-1095',\n",
       " '73073034021943',\n",
       " '12129910548']"
      ]
     },
     "execution_count": 131,
     "metadata": {},
     "output_type": "execute_result"
    }
   ],
   "source": [
    "ph"
   ]
  },
  {
   "cell_type": "code",
   "execution_count": 132,
   "id": "ca227fb4",
   "metadata": {},
   "outputs": [],
   "source": [
    "phone=pd.DataFrame(ph,columns=['Phone_number'])"
   ]
  },
  {
   "cell_type": "code",
   "execution_count": 133,
   "id": "f4199af1",
   "metadata": {},
   "outputs": [
    {
     "data": {
      "text/html": [
       "<div>\n",
       "<style scoped>\n",
       "    .dataframe tbody tr th:only-of-type {\n",
       "        vertical-align: middle;\n",
       "    }\n",
       "\n",
       "    .dataframe tbody tr th {\n",
       "        vertical-align: top;\n",
       "    }\n",
       "\n",
       "    .dataframe thead th {\n",
       "        text-align: right;\n",
       "    }\n",
       "</style>\n",
       "<table border=\"1\" class=\"dataframe\">\n",
       "  <thead>\n",
       "    <tr style=\"text-align: right;\">\n",
       "      <th></th>\n",
       "      <th>Phone_number</th>\n",
       "    </tr>\n",
       "  </thead>\n",
       "  <tbody>\n",
       "    <tr>\n",
       "      <th>0</th>\n",
       "      <td>1631639833816</td>\n",
       "    </tr>\n",
       "    <tr>\n",
       "      <th>1</th>\n",
       "      <td>1010-2016-1073</td>\n",
       "    </tr>\n",
       "    <tr>\n",
       "      <th>2</th>\n",
       "      <td>1212-2016-1095</td>\n",
       "    </tr>\n",
       "    <tr>\n",
       "      <th>3</th>\n",
       "      <td>73073034021943</td>\n",
       "    </tr>\n",
       "    <tr>\n",
       "      <th>4</th>\n",
       "      <td>12129910548</td>\n",
       "    </tr>\n",
       "  </tbody>\n",
       "</table>\n",
       "</div>"
      ],
      "text/plain": [
       "     Phone_number\n",
       "0   1631639833816\n",
       "1  1010-2016-1073\n",
       "2  1212-2016-1095\n",
       "3  73073034021943\n",
       "4     12129910548"
      ]
     },
     "execution_count": 133,
     "metadata": {},
     "output_type": "execute_result"
    }
   ],
   "source": [
    "phone"
   ]
  },
  {
   "cell_type": "code",
   "execution_count": 134,
   "id": "0276074d",
   "metadata": {
    "scrolled": true
   },
   "outputs": [],
   "source": [
    "#j='  '.join(ph)"
   ]
  },
  {
   "cell_type": "code",
   "execution_count": 135,
   "id": "d706d80a",
   "metadata": {},
   "outputs": [
    {
     "data": {
      "text/plain": [
       "['info@smartjoules.in', 'info@smartjoules.in']"
      ]
     },
     "execution_count": 135,
     "metadata": {},
     "output_type": "execute_result"
    }
   ],
   "source": [
    "mail"
   ]
  },
  {
   "cell_type": "code",
   "execution_count": 136,
   "id": "7de5fea2",
   "metadata": {},
   "outputs": [],
   "source": [
    "mail=pd.DataFrame(mail,columns=['Email'])"
   ]
  },
  {
   "cell_type": "code",
   "execution_count": 137,
   "id": "bd60e1c9",
   "metadata": {},
   "outputs": [
    {
     "data": {
      "text/html": [
       "<div>\n",
       "<style scoped>\n",
       "    .dataframe tbody tr th:only-of-type {\n",
       "        vertical-align: middle;\n",
       "    }\n",
       "\n",
       "    .dataframe tbody tr th {\n",
       "        vertical-align: top;\n",
       "    }\n",
       "\n",
       "    .dataframe thead th {\n",
       "        text-align: right;\n",
       "    }\n",
       "</style>\n",
       "<table border=\"1\" class=\"dataframe\">\n",
       "  <thead>\n",
       "    <tr style=\"text-align: right;\">\n",
       "      <th></th>\n",
       "      <th>Email</th>\n",
       "    </tr>\n",
       "  </thead>\n",
       "  <tbody>\n",
       "    <tr>\n",
       "      <th>0</th>\n",
       "      <td>info@smartjoules.in</td>\n",
       "    </tr>\n",
       "    <tr>\n",
       "      <th>1</th>\n",
       "      <td>info@smartjoules.in</td>\n",
       "    </tr>\n",
       "  </tbody>\n",
       "</table>\n",
       "</div>"
      ],
      "text/plain": [
       "                 Email\n",
       "0  info@smartjoules.in\n",
       "1  info@smartjoules.in"
      ]
     },
     "execution_count": 137,
     "metadata": {},
     "output_type": "execute_result"
    }
   ],
   "source": [
    "mail"
   ]
  },
  {
   "cell_type": "code",
   "execution_count": 138,
   "id": "a2468fa0",
   "metadata": {},
   "outputs": [],
   "source": [
    "dataframe=pd.concat([website,phone,mail],axis=True)"
   ]
  },
  {
   "cell_type": "code",
   "execution_count": 139,
   "id": "337ccfcb",
   "metadata": {},
   "outputs": [
    {
     "data": {
      "text/html": [
       "<div>\n",
       "<style scoped>\n",
       "    .dataframe tbody tr th:only-of-type {\n",
       "        vertical-align: middle;\n",
       "    }\n",
       "\n",
       "    .dataframe tbody tr th {\n",
       "        vertical-align: top;\n",
       "    }\n",
       "\n",
       "    .dataframe thead th {\n",
       "        text-align: right;\n",
       "    }\n",
       "</style>\n",
       "<table border=\"1\" class=\"dataframe\">\n",
       "  <thead>\n",
       "    <tr style=\"text-align: right;\">\n",
       "      <th></th>\n",
       "      <th>Website</th>\n",
       "      <th>Phone_number</th>\n",
       "      <th>Email</th>\n",
       "    </tr>\n",
       "  </thead>\n",
       "  <tbody>\n",
       "    <tr>\n",
       "      <th>0</th>\n",
       "      <td>https://www.smartjoules.co.in/</td>\n",
       "      <td>1631639833816</td>\n",
       "      <td>info@smartjoules.in</td>\n",
       "    </tr>\n",
       "    <tr>\n",
       "      <th>1</th>\n",
       "      <td>NaN</td>\n",
       "      <td>1010-2016-1073</td>\n",
       "      <td>info@smartjoules.in</td>\n",
       "    </tr>\n",
       "    <tr>\n",
       "      <th>2</th>\n",
       "      <td>NaN</td>\n",
       "      <td>1212-2016-1095</td>\n",
       "      <td>NaN</td>\n",
       "    </tr>\n",
       "    <tr>\n",
       "      <th>3</th>\n",
       "      <td>NaN</td>\n",
       "      <td>73073034021943</td>\n",
       "      <td>NaN</td>\n",
       "    </tr>\n",
       "    <tr>\n",
       "      <th>4</th>\n",
       "      <td>NaN</td>\n",
       "      <td>12129910548</td>\n",
       "      <td>NaN</td>\n",
       "    </tr>\n",
       "  </tbody>\n",
       "</table>\n",
       "</div>"
      ],
      "text/plain": [
       "                          Website    Phone_number                Email\n",
       "0  https://www.smartjoules.co.in/   1631639833816  info@smartjoules.in\n",
       "1                             NaN  1010-2016-1073  info@smartjoules.in\n",
       "2                             NaN  1212-2016-1095                  NaN\n",
       "3                             NaN  73073034021943                  NaN\n",
       "4                             NaN     12129910548                  NaN"
      ]
     },
     "execution_count": 139,
     "metadata": {},
     "output_type": "execute_result"
    }
   ],
   "source": [
    "dataframe"
   ]
  },
  {
   "cell_type": "code",
   "execution_count": 141,
   "id": "87713515",
   "metadata": {},
   "outputs": [],
   "source": [
    "import csv\n",
    "import pandas as pd"
   ]
  },
  {
   "cell_type": "code",
   "execution_count": 142,
   "id": "ca0ba11c",
   "metadata": {},
   "outputs": [],
   "source": [
    "dataframe.to_csv(r'B:\\dataframe.csv')"
   ]
  },
  {
   "cell_type": "code",
   "execution_count": 12,
   "id": "f9a5e113",
   "metadata": {},
   "outputs": [],
   "source": []
  },
  {
   "cell_type": "code",
   "execution_count": null,
   "id": "c13a7591",
   "metadata": {},
   "outputs": [],
   "source": []
  },
  {
   "cell_type": "code",
   "execution_count": null,
   "id": "9087b985",
   "metadata": {},
   "outputs": [],
   "source": []
  },
  {
   "cell_type": "code",
   "execution_count": null,
   "id": "d83fd54e",
   "metadata": {},
   "outputs": [],
   "source": []
  },
  {
   "cell_type": "code",
   "execution_count": null,
   "id": "50273fd9",
   "metadata": {},
   "outputs": [],
   "source": []
  },
  {
   "cell_type": "code",
   "execution_count": null,
   "id": "6dce1926",
   "metadata": {},
   "outputs": [],
   "source": []
  }
 ],
 "metadata": {
  "kernelspec": {
   "display_name": "Python 3 (ipykernel)",
   "language": "python",
   "name": "python3"
  },
  "language_info": {
   "codemirror_mode": {
    "name": "ipython",
    "version": 3
   },
   "file_extension": ".py",
   "mimetype": "text/x-python",
   "name": "python",
   "nbconvert_exporter": "python",
   "pygments_lexer": "ipython3",
   "version": "3.9.7"
  }
 },
 "nbformat": 4,
 "nbformat_minor": 5
}
